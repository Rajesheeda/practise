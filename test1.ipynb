{
 "cells": [
  {
   "cell_type": "code",
   "execution_count": null,
   "metadata": {},
   "outputs": [],
   "source": []
  },
  {
   "cell_type": "code",
   "execution_count": 43,
   "metadata": {},
   "outputs": [
    {
     "name": "stdout",
     "output_type": "stream",
     "text": "id  user_id    spent_at            created_at  \\\n0  1147281669  3077355  2020-01-03  2020-01-03T02:43:55Z   \n1  1147281709  3077355  2020-01-03  2020-01-03T02:44:09Z   \n2  1147281741  3077355  2020-01-03  2020-01-03T02:44:19Z   \n3  1147281767  3077355  2020-01-03  2020-01-03T02:44:32Z   \n4  1147281794  3077355  2020-01-03  2020-01-03T02:44:48Z   \n\n             updated_at project_id   task_id project                  task  \\\n0  2020-01-03T02:43:55Z   23430410  13502666   FEaaS                Design   \n1  2020-01-03T02:44:09Z   23430410  13502668   FEaaS             Marketing   \n2  2020-01-03T02:44:19Z   23430410  13502667   FEaaS           Programming   \n3  2020-01-03T02:44:32Z   23430410  13502669   FEaaS    Project Management   \n4  2020-01-03T02:44:48Z   23430410  13502670   FEaaS  Business Development   \n\n  client                 notes  hours_without_timer  hours  \n0   Kyle                Design                  1.0    1.0  \n1   Kyle             Marketing                  2.0    2.0  \n2   Kyle           Programming                  3.0    3.0  \n3   Kyle    Project Management                  4.0    4.0  \n4   Kyle  Business Development                  5.0    5.0  \n"
    }
   ],
   "source": [
    "import os\n",
    "import json\n",
    "import urllib.request\n",
    "import ssl\n",
    "import harvest\n",
    "import pandas as pd\n",
    "import base64\n",
    "from dotenv import load_dotenv\n",
    "\n",
    "ssl._create_default_https_context = ssl._create_unverified_context\n",
    "\n",
    "# Load api key from .env\n",
    "load_dotenv()\n",
    "\n",
    "account = os.getenv(\"HARVEST_ACCOUNT\")\n",
    "email = os.getenv(\"HARVEST_EMAIL\")\n",
    "password = os.getenv(\"HARVEST_PASSWORD\")\n",
    "\n",
    "client = harvest.Harvest(f\"https://{account}.harvestapp.com\", email, password)\n",
    "client.who_am_i\n",
    "\n",
    "# Make an arbitrary query to the getharvest API to get a report on how the user spent their time\n",
    "url = f\"https://{account}.harvestapp.com/daily\"\n",
    "info = email + \":\" + password\n",
    "encoded = base64.b64encode(bytes(info, \"utf-8\"))\n",
    "decoded = encoded.decode(\"utf-8\")\n",
    "headers = {\n",
    "    \"Accept\": \"application/json\",\n",
    "    \"Content-Type\": \"application/json\",\n",
    "    \"Authorization\": \"Basic (\" + decoded + \")\"\n",
    "}\n",
    "\n",
    "request = urllib.request.Request(url=url, headers=headers)\n",
    "response = urllib.request.urlopen(request, timeout=5)\n",
    "responseBody = response.read().decode(\"utf-8\")\n",
    "jsonResponse = json.loads(responseBody)\n",
    "\n",
    "# Load the response data into a pandas dataframe\n",
    "df = pd.DataFrame(jsonResponse[\"day_entries\"])\n",
    "\n",
    "# Display df.head() in the Jupyter Notebook\n",
    "df_top = df.head()\n",
    "print(df_top)"
   ]
  },
  {
   "cell_type": "code",
   "execution_count": null,
   "metadata": {},
   "outputs": [],
   "source": []
  }
 ],
 "metadata": {
  "kernelspec": {
   "display_name": "Python 3",
   "language": "python",
   "name": "python3"
  },
  "language_info": {
   "codemirror_mode": {
    "name": "ipython",
    "version": 3
   },
   "file_extension": ".py",
   "mimetype": "text/x-python",
   "name": "python",
   "nbconvert_exporter": "python",
   "pygments_lexer": "ipython3",
   "version": "3.8.0"
  }
 },
 "nbformat": 4,
 "nbformat_minor": 2
}
